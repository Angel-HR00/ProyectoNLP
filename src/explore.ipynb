{
    "cells": [
        {
            "cell_type": "markdown",
            "metadata": {},
            "source": [
                "# Explore here"
            ]
        },
        {
            "cell_type": "code",
            "execution_count": 2,
            "metadata": {},
            "outputs": [],
            "source": [
                "# Manejo de los datos\n",
                "import pandas as pd\n",
                "# Preprocesado\n",
                "import nltk\n",
                "from nltk.corpus import stopwords\n",
                "from nltk.stem import WordNetLemmatizer\n",
                "from urllib.parse import urlparse\n",
                "import re\n",
                "# Division del conjunto de datos\n",
                "from sklearn.model_selection import train_test_split\n",
                "# Implementacion del modelo y vectorizacion\n",
                "from sklearn.feature_extraction.text import TfidfVectorizer\n",
                "from sklearn.svm import SVC\n",
                "from sklearn.pipeline import Pipeline\n",
                "# Optimizacion\n",
                "from sklearn.model_selection import GridSearchCV\n",
                "# Serializacion\n",
                "import joblib"
            ]
        },
        {
            "cell_type": "code",
            "execution_count": 3,
            "metadata": {},
            "outputs": [
                {
                    "data": {
                        "text/html": [
                            "<div>\n",
                            "<style scoped>\n",
                            "    .dataframe tbody tr th:only-of-type {\n",
                            "        vertical-align: middle;\n",
                            "    }\n",
                            "\n",
                            "    .dataframe tbody tr th {\n",
                            "        vertical-align: top;\n",
                            "    }\n",
                            "\n",
                            "    .dataframe thead th {\n",
                            "        text-align: right;\n",
                            "    }\n",
                            "</style>\n",
                            "<table border=\"1\" class=\"dataframe\">\n",
                            "  <thead>\n",
                            "    <tr style=\"text-align: right;\">\n",
                            "      <th></th>\n",
                            "      <th>url</th>\n",
                            "      <th>is_spam</th>\n",
                            "    </tr>\n",
                            "  </thead>\n",
                            "  <tbody>\n",
                            "    <tr>\n",
                            "      <th>0</th>\n",
                            "      <td>https://briefingday.us8.list-manage.com/unsubs...</td>\n",
                            "      <td>True</td>\n",
                            "    </tr>\n",
                            "    <tr>\n",
                            "      <th>1</th>\n",
                            "      <td>https://www.hvper.com/</td>\n",
                            "      <td>True</td>\n",
                            "    </tr>\n",
                            "    <tr>\n",
                            "      <th>2</th>\n",
                            "      <td>https://briefingday.com/m/v4n3i4f3</td>\n",
                            "      <td>True</td>\n",
                            "    </tr>\n",
                            "    <tr>\n",
                            "      <th>3</th>\n",
                            "      <td>https://briefingday.com/n/20200618/m#commentform</td>\n",
                            "      <td>False</td>\n",
                            "    </tr>\n",
                            "    <tr>\n",
                            "      <th>4</th>\n",
                            "      <td>https://briefingday.com/fan</td>\n",
                            "      <td>True</td>\n",
                            "    </tr>\n",
                            "    <tr>\n",
                            "      <th>5</th>\n",
                            "      <td>https://www.brookings.edu/interactives/reopeni...</td>\n",
                            "      <td>False</td>\n",
                            "    </tr>\n",
                            "  </tbody>\n",
                            "</table>\n",
                            "</div>"
                        ],
                        "text/plain": [
                            "                                                 url  is_spam\n",
                            "0  https://briefingday.us8.list-manage.com/unsubs...     True\n",
                            "1                             https://www.hvper.com/     True\n",
                            "2                 https://briefingday.com/m/v4n3i4f3     True\n",
                            "3   https://briefingday.com/n/20200618/m#commentform    False\n",
                            "4                        https://briefingday.com/fan     True\n",
                            "5  https://www.brookings.edu/interactives/reopeni...    False"
                        ]
                    },
                    "execution_count": 3,
                    "metadata": {},
                    "output_type": "execute_result"
                }
            ],
            "source": [
                "data = pd.read_csv(\"https://raw.githubusercontent.com/4GeeksAcademy/NLP-project-tutorial/main/url_spam.csv\")\n",
                "data.head(6)"
            ]
        },
        {
            "cell_type": "code",
            "execution_count": 4,
            "metadata": {},
            "outputs": [
                {
                    "name": "stderr",
                    "output_type": "stream",
                    "text": [
                        "[nltk_data] Downloading package stopwords to\n",
                        "[nltk_data]     C:\\Users\\angel\\AppData\\Roaming\\nltk_data...\n",
                        "[nltk_data]   Package stopwords is already up-to-date!\n",
                        "[nltk_data] Downloading package wordnet to\n",
                        "[nltk_data]     C:\\Users\\angel\\AppData\\Roaming\\nltk_data...\n",
                        "[nltk_data]   Package wordnet is already up-to-date!\n"
                    ]
                }
            ],
            "source": [
                "#Pre-procesado URL\n",
                "nltk.download('stopwords')\n",
                "nltk.download('wordnet')\n",
                "\n",
                "stop_words = set(stopwords.words(\"english\"))\n",
                "lemmatizer = WordNetLemmatizer()\n",
                "\n",
                "def preprocess_url(data):\n",
                "    #Parsear URL y extraer componentes\n",
                "    parsed_url = urlparse(data)\n",
                "    path_tokens = re.split(r'\\W+', parsed_url.path)\n",
                "    \n",
                "    #Filtro stopwords y lematizar\n",
                "    tokens = [lemmatizer.lemmatize(token.lower()) for token in path_tokens if token.lower() not in stop_words and token != '']\n",
                "    \n",
                "    return \" \".join(tokens)\n",
                "\n",
                "#Aplicar la funcion a cada URL\n",
                "data[\"cleaned_url\"] = data[\"url\"].apply(preprocess_url)"
            ]
        },
        {
            "cell_type": "markdown",
            "metadata": {},
            "source": []
        },
        {
            "cell_type": "code",
            "execution_count": 5,
            "metadata": {},
            "outputs": [],
            "source": [
                "#Dividir conjunto en train y test\n",
                "X_train, X_test, y_train, y_test = train_test_split(data[\"cleaned_url\"], data[\"is_spam\"], test_size=0.2, random_state=42)"
            ]
        },
        {
            "cell_type": "code",
            "execution_count": 6,
            "metadata": {},
            "outputs": [
                {
                    "name": "stdout",
                    "output_type": "stream",
                    "text": [
                        "Accuracy: 90.50%\n"
                    ]
                }
            ],
            "source": [
                "# Crear un pipeline con TF-IDF Vectorizer y SVC\n",
                "model = Pipeline([\n",
                "    ('tfidf', TfidfVectorizer()),\n",
                "    ('svc', SVC())\n",
                "])\n",
                "\n",
                "#Entrenar modelo\n",
                "model.fit(X_train, y_train)\n",
                "\n",
                "#Evaluacion de modelo\n",
                "score = model.score(X_test, y_test)\n",
                "print(f\"Accuracy: {score * 100:.2f}%\")"
            ]
        },
        {
            "cell_type": "code",
            "execution_count": 7,
            "metadata": {},
            "outputs": [
                {
                    "name": "stdout",
                    "output_type": "stream",
                    "text": [
                        "Mejor score:  0.9158002783576895\n",
                        "Mejores parámetros:  {'svc__C': 1, 'svc__kernel': 'linear'}\n"
                    ]
                }
            ],
            "source": [
                "#Optimizar modelo\n",
                "param_grid = {\n",
                "    'svc__C': [0.1, 1, 10],\n",
                "    'svc__kernel': ['linear', 'rbf']\n",
                "}\n",
                "\n",
                "grid_search = GridSearchCV(model, param_grid, cv=5, scoring='accuracy')\n",
                "grid_search.fit(X_train, y_train)\n",
                "\n",
                "print(\"Mejor score: \", grid_search.best_score_)\n",
                "print(\"Mejores parámetros: \", grid_search.best_params_)"
            ]
        },
        {
            "cell_type": "code",
            "execution_count": 8,
            "metadata": {},
            "outputs": [],
            "source": [
                "from pickle import dump\n",
                "\n",
                "dump(model, open(\"../models/detector_spam.sawb\", \"wb\"))"
            ]
        }
    ],
    "metadata": {
        "kernelspec": {
            "display_name": "Python 3.8.13 64-bit ('3.8.13')",
            "language": "python",
            "name": "python3"
        },
        "language_info": {
            "codemirror_mode": {
                "name": "ipython",
                "version": 3
            },
            "file_extension": ".py",
            "mimetype": "text/x-python",
            "name": "python",
            "nbconvert_exporter": "python",
            "pygments_lexer": "ipython3",
            "version": "3.12.1"
        },
        "orig_nbformat": 4,
        "vscode": {
            "interpreter": {
                "hash": "110cc1dee26208153f2972f08a2ad52b6a56238dc66d48e87fb757ef2996db56"
            }
        }
    },
    "nbformat": 4,
    "nbformat_minor": 2
}
